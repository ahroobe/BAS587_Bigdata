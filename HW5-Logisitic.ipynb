{
 "cells": [
  {
   "cell_type": "markdown",
   "metadata": {},
   "source": [
    "# Data Small Titanic"
   ]
  },
  {
   "cell_type": "code",
   "execution_count": 65,
   "metadata": {
    "collapsed": true
   },
   "outputs": [],
   "source": [
    "import pandas as pd\n",
    "import numpy as np\n",
    "import math\n",
    "import pylab as pl"
   ]
  },
  {
   "cell_type": "code",
   "execution_count": 2,
   "metadata": {
    "collapsed": true
   },
   "outputs": [],
   "source": [
    "data_titanic = pd.read_csv('./data/titanic.csv')"
   ]
  },
  {
   "cell_type": "code",
   "execution_count": 3,
   "metadata": {
    "collapsed": false
   },
   "outputs": [
    {
     "data": {
      "text/html": [
       "<div>\n",
       "<table border=\"1\" class=\"dataframe\">\n",
       "  <thead>\n",
       "    <tr style=\"text-align: right;\">\n",
       "      <th></th>\n",
       "      <th>Unnamed: 0</th>\n",
       "      <th>Name</th>\n",
       "      <th>PClass</th>\n",
       "      <th>Age</th>\n",
       "      <th>Sex</th>\n",
       "      <th>Survived</th>\n",
       "      <th>SexCode</th>\n",
       "    </tr>\n",
       "  </thead>\n",
       "  <tbody>\n",
       "    <tr>\n",
       "      <th>0</th>\n",
       "      <td>1</td>\n",
       "      <td>Allen, Miss Elisabeth Walton</td>\n",
       "      <td>1st</td>\n",
       "      <td>29.00</td>\n",
       "      <td>female</td>\n",
       "      <td>1</td>\n",
       "      <td>1</td>\n",
       "    </tr>\n",
       "    <tr>\n",
       "      <th>1</th>\n",
       "      <td>2</td>\n",
       "      <td>Allison, Miss Helen Loraine</td>\n",
       "      <td>1st</td>\n",
       "      <td>2.00</td>\n",
       "      <td>female</td>\n",
       "      <td>0</td>\n",
       "      <td>1</td>\n",
       "    </tr>\n",
       "    <tr>\n",
       "      <th>2</th>\n",
       "      <td>3</td>\n",
       "      <td>Allison, Mr Hudson Joshua Creighton</td>\n",
       "      <td>1st</td>\n",
       "      <td>30.00</td>\n",
       "      <td>male</td>\n",
       "      <td>0</td>\n",
       "      <td>0</td>\n",
       "    </tr>\n",
       "    <tr>\n",
       "      <th>3</th>\n",
       "      <td>4</td>\n",
       "      <td>Allison, Mrs Hudson JC (Bessie Waldo Daniels)</td>\n",
       "      <td>1st</td>\n",
       "      <td>25.00</td>\n",
       "      <td>female</td>\n",
       "      <td>0</td>\n",
       "      <td>1</td>\n",
       "    </tr>\n",
       "    <tr>\n",
       "      <th>4</th>\n",
       "      <td>5</td>\n",
       "      <td>Allison, Master Hudson Trevor</td>\n",
       "      <td>1st</td>\n",
       "      <td>0.92</td>\n",
       "      <td>male</td>\n",
       "      <td>1</td>\n",
       "      <td>0</td>\n",
       "    </tr>\n",
       "  </tbody>\n",
       "</table>\n",
       "</div>"
      ],
      "text/plain": [
       "   Unnamed: 0                                           Name PClass    Age  \\\n",
       "0           1                   Allen, Miss Elisabeth Walton    1st  29.00   \n",
       "1           2                    Allison, Miss Helen Loraine    1st   2.00   \n",
       "2           3            Allison, Mr Hudson Joshua Creighton    1st  30.00   \n",
       "3           4  Allison, Mrs Hudson JC (Bessie Waldo Daniels)    1st  25.00   \n",
       "4           5                  Allison, Master Hudson Trevor    1st   0.92   \n",
       "\n",
       "      Sex  Survived  SexCode  \n",
       "0  female         1        1  \n",
       "1  female         0        1  \n",
       "2    male         0        0  \n",
       "3  female         0        1  \n",
       "4    male         1        0  "
      ]
     },
     "execution_count": 3,
     "metadata": {},
     "output_type": "execute_result"
    }
   ],
   "source": [
    "data_titanic.head()"
   ]
  },
  {
   "cell_type": "markdown",
   "metadata": {},
   "source": [
    "## Make object data to numeric data\n",
    "\n",
    "* PClass: 1~3 (1st, 2nd, 3rd)"
   ]
  },
  {
   "cell_type": "code",
   "execution_count": 4,
   "metadata": {
    "collapsed": false
   },
   "outputs": [],
   "source": [
    "def obj_to_number(data):\n",
    "    if data==\"*\":\n",
    "        return 0\n",
    "    num = data[0]\n",
    "    return int(num)"
   ]
  },
  {
   "cell_type": "code",
   "execution_count": 5,
   "metadata": {
    "collapsed": false
   },
   "outputs": [],
   "source": [
    "data_titanic['class'] = data_titanic['PClass'].apply(func=obj_to_number)"
   ]
  },
  {
   "cell_type": "code",
   "execution_count": 6,
   "metadata": {
    "collapsed": false
   },
   "outputs": [
    {
     "data": {
      "text/html": [
       "<div>\n",
       "<table border=\"1\" class=\"dataframe\">\n",
       "  <thead>\n",
       "    <tr style=\"text-align: right;\">\n",
       "      <th></th>\n",
       "      <th>Unnamed: 0</th>\n",
       "      <th>Name</th>\n",
       "      <th>PClass</th>\n",
       "      <th>Age</th>\n",
       "      <th>Sex</th>\n",
       "      <th>Survived</th>\n",
       "      <th>SexCode</th>\n",
       "      <th>class</th>\n",
       "    </tr>\n",
       "  </thead>\n",
       "  <tbody>\n",
       "    <tr>\n",
       "      <th>0</th>\n",
       "      <td>1</td>\n",
       "      <td>Allen, Miss Elisabeth Walton</td>\n",
       "      <td>1st</td>\n",
       "      <td>29.00</td>\n",
       "      <td>female</td>\n",
       "      <td>1</td>\n",
       "      <td>1</td>\n",
       "      <td>1</td>\n",
       "    </tr>\n",
       "    <tr>\n",
       "      <th>1</th>\n",
       "      <td>2</td>\n",
       "      <td>Allison, Miss Helen Loraine</td>\n",
       "      <td>1st</td>\n",
       "      <td>2.00</td>\n",
       "      <td>female</td>\n",
       "      <td>0</td>\n",
       "      <td>1</td>\n",
       "      <td>1</td>\n",
       "    </tr>\n",
       "    <tr>\n",
       "      <th>2</th>\n",
       "      <td>3</td>\n",
       "      <td>Allison, Mr Hudson Joshua Creighton</td>\n",
       "      <td>1st</td>\n",
       "      <td>30.00</td>\n",
       "      <td>male</td>\n",
       "      <td>0</td>\n",
       "      <td>0</td>\n",
       "      <td>1</td>\n",
       "    </tr>\n",
       "    <tr>\n",
       "      <th>3</th>\n",
       "      <td>4</td>\n",
       "      <td>Allison, Mrs Hudson JC (Bessie Waldo Daniels)</td>\n",
       "      <td>1st</td>\n",
       "      <td>25.00</td>\n",
       "      <td>female</td>\n",
       "      <td>0</td>\n",
       "      <td>1</td>\n",
       "      <td>1</td>\n",
       "    </tr>\n",
       "    <tr>\n",
       "      <th>4</th>\n",
       "      <td>5</td>\n",
       "      <td>Allison, Master Hudson Trevor</td>\n",
       "      <td>1st</td>\n",
       "      <td>0.92</td>\n",
       "      <td>male</td>\n",
       "      <td>1</td>\n",
       "      <td>0</td>\n",
       "      <td>1</td>\n",
       "    </tr>\n",
       "  </tbody>\n",
       "</table>\n",
       "</div>"
      ],
      "text/plain": [
       "   Unnamed: 0                                           Name PClass    Age  \\\n",
       "0           1                   Allen, Miss Elisabeth Walton    1st  29.00   \n",
       "1           2                    Allison, Miss Helen Loraine    1st   2.00   \n",
       "2           3            Allison, Mr Hudson Joshua Creighton    1st  30.00   \n",
       "3           4  Allison, Mrs Hudson JC (Bessie Waldo Daniels)    1st  25.00   \n",
       "4           5                  Allison, Master Hudson Trevor    1st   0.92   \n",
       "\n",
       "      Sex  Survived  SexCode  class  \n",
       "0  female         1        1      1  \n",
       "1  female         0        1      1  \n",
       "2    male         0        0      1  \n",
       "3  female         0        1      1  \n",
       "4    male         1        0      1  "
      ]
     },
     "execution_count": 6,
     "metadata": {},
     "output_type": "execute_result"
    }
   ],
   "source": [
    "data_titanic.head()"
   ]
  },
  {
   "cell_type": "code",
   "execution_count": 7,
   "metadata": {
    "collapsed": false
   },
   "outputs": [],
   "source": [
    "data_main = data_titanic[['Age','SexCode','class','Survived']]"
   ]
  },
  {
   "cell_type": "markdown",
   "metadata": {},
   "source": [
    "## Delete NaN data"
   ]
  },
  {
   "cell_type": "code",
   "execution_count": 8,
   "metadata": {
    "collapsed": false
   },
   "outputs": [],
   "source": [
    "data_main = data_main.dropna()"
   ]
  },
  {
   "cell_type": "code",
   "execution_count": 10,
   "metadata": {
    "collapsed": false
   },
   "outputs": [
    {
     "data": {
      "text/html": [
       "<div>\n",
       "<table border=\"1\" class=\"dataframe\">\n",
       "  <thead>\n",
       "    <tr style=\"text-align: right;\">\n",
       "      <th></th>\n",
       "      <th>Age</th>\n",
       "      <th>SexCode</th>\n",
       "      <th>class</th>\n",
       "      <th>Survived</th>\n",
       "    </tr>\n",
       "  </thead>\n",
       "  <tbody>\n",
       "    <tr>\n",
       "      <th>count</th>\n",
       "      <td>756.000000</td>\n",
       "      <td>756.000000</td>\n",
       "      <td>756.000000</td>\n",
       "      <td>756.000000</td>\n",
       "    </tr>\n",
       "    <tr>\n",
       "      <th>mean</th>\n",
       "      <td>30.397989</td>\n",
       "      <td>0.380952</td>\n",
       "      <td>2.121693</td>\n",
       "      <td>0.414021</td>\n",
       "    </tr>\n",
       "    <tr>\n",
       "      <th>std</th>\n",
       "      <td>14.259049</td>\n",
       "      <td>0.485942</td>\n",
       "      <td>0.840060</td>\n",
       "      <td>0.492878</td>\n",
       "    </tr>\n",
       "    <tr>\n",
       "      <th>min</th>\n",
       "      <td>0.170000</td>\n",
       "      <td>0.000000</td>\n",
       "      <td>1.000000</td>\n",
       "      <td>0.000000</td>\n",
       "    </tr>\n",
       "    <tr>\n",
       "      <th>25%</th>\n",
       "      <td>21.000000</td>\n",
       "      <td>0.000000</td>\n",
       "      <td>1.000000</td>\n",
       "      <td>0.000000</td>\n",
       "    </tr>\n",
       "    <tr>\n",
       "      <th>50%</th>\n",
       "      <td>28.000000</td>\n",
       "      <td>0.000000</td>\n",
       "      <td>2.000000</td>\n",
       "      <td>0.000000</td>\n",
       "    </tr>\n",
       "    <tr>\n",
       "      <th>75%</th>\n",
       "      <td>39.000000</td>\n",
       "      <td>1.000000</td>\n",
       "      <td>3.000000</td>\n",
       "      <td>1.000000</td>\n",
       "    </tr>\n",
       "    <tr>\n",
       "      <th>max</th>\n",
       "      <td>71.000000</td>\n",
       "      <td>1.000000</td>\n",
       "      <td>3.000000</td>\n",
       "      <td>1.000000</td>\n",
       "    </tr>\n",
       "  </tbody>\n",
       "</table>\n",
       "</div>"
      ],
      "text/plain": [
       "              Age     SexCode       class    Survived\n",
       "count  756.000000  756.000000  756.000000  756.000000\n",
       "mean    30.397989    0.380952    2.121693    0.414021\n",
       "std     14.259049    0.485942    0.840060    0.492878\n",
       "min      0.170000    0.000000    1.000000    0.000000\n",
       "25%     21.000000    0.000000    1.000000    0.000000\n",
       "50%     28.000000    0.000000    2.000000    0.000000\n",
       "75%     39.000000    1.000000    3.000000    1.000000\n",
       "max     71.000000    1.000000    3.000000    1.000000"
      ]
     },
     "execution_count": 10,
     "metadata": {},
     "output_type": "execute_result"
    }
   ],
   "source": [
    "data_main.describe()"
   ]
  },
  {
   "cell_type": "markdown",
   "metadata": {},
   "source": [
    "---\n",
    "\n",
    "#  Logistic Regression (Classification)\n",
    "\n",
    "* using titanic data\n",
    "* survived -> 0 or 1. 2-class classification"
   ]
  },
  {
   "cell_type": "code",
   "execution_count": 11,
   "metadata": {
    "collapsed": false
   },
   "outputs": [],
   "source": [
    "X = data_main[data_main.columns[0:3]]\n",
    "Y = data_main[['Survived']]"
   ]
  },
  {
   "cell_type": "markdown",
   "metadata": {},
   "source": [
    "## Sigmoid function\n",
    "\n",
    "0 means negative, 1 means positive.\n",
    "hypothesis function must be in 0~1 range.\n",
    "\n",
    "Using 1/(1+e^(-g))"
   ]
  },
  {
   "cell_type": "code",
   "execution_count": 12,
   "metadata": {
    "collapsed": false
   },
   "outputs": [],
   "source": [
    "def sigmoid(x):  \n",
    "    # return math.exp(-np.logaddexp(0, -x))\n",
    "    return 1 / (1 + math.e ** -x)"
   ]
  },
  {
   "cell_type": "code",
   "execution_count": 14,
   "metadata": {
    "collapsed": false
   },
   "outputs": [
    {
     "data": {
      "text/plain": [
       "0.5"
      ]
     },
     "execution_count": 14,
     "metadata": {},
     "output_type": "execute_result"
    }
   ],
   "source": [
    "sigmoid(0)"
   ]
  },
  {
   "cell_type": "markdown",
   "metadata": {},
   "source": [
    "## Cost Function and Gradient Descent"
   ]
  },
  {
   "cell_type": "code",
   "execution_count": 17,
   "metadata": {
    "collapsed": false
   },
   "outputs": [],
   "source": [
    "def costfunction(W,X,y):\n",
    "    # to make one dimensional array\n",
    "    y = y.as_matrix(columns=y.columns)[:,0]\n",
    "    m = y.size\n",
    "    h = sigmoid(np.dot(W, X.T))\n",
    "\n",
    "    cost = -(1.0/m) * sum(y*np.log(h) + (1-y)*np.log(1-h))\n",
    "    grad = (1.0/m) * np.dot(X.T, h-y)\n",
    "\n",
    "    return cost, grad"
   ]
  },
  {
   "cell_type": "code",
   "execution_count": 18,
   "metadata": {
    "collapsed": false
   },
   "outputs": [
    {
     "data": {
      "text/plain": [
       "(3, 756, array([ 0.,  0.,  0.]))"
      ]
     },
     "execution_count": 18,
     "metadata": {},
     "output_type": "execute_result"
    }
   ],
   "source": [
    "m,n = X.shape\n",
    "W = np.zeros(n)\n",
    "n,m,W"
   ]
  },
  {
   "cell_type": "code",
   "execution_count": 19,
   "metadata": {
    "collapsed": false
   },
   "outputs": [
    {
     "data": {
      "text/plain": [
       "(0.69314718055994562, array([ 3.04350529, -0.09656085,  0.31349206]))"
      ]
     },
     "execution_count": 19,
     "metadata": {},
     "output_type": "execute_result"
    }
   ],
   "source": [
    "cost, grad = costfunction(W, X, Y)\n",
    "cost, grad"
   ]
  },
  {
   "cell_type": "markdown",
   "metadata": {},
   "source": [
    "## Regularization"
   ]
  },
  {
   "cell_type": "code",
   "execution_count": 176,
   "metadata": {
    "collapsed": false
   },
   "outputs": [],
   "source": [
    "def regular(X):\n",
    "    Mean = X.mean(axis=0)\n",
    "    Max = X.max(axis=0)\n",
    "    Min = X.min(axis=0)\n",
    "    for idx,col in enumerate(X.columns):\n",
    "        mean = Mean[idx]\n",
    "        maxi = Max[idx]\n",
    "        mini = Min[idx]\n",
    "        X = X.subtract(mean, axis=col)\n",
    "        X = X.multiply(1.0/(maxi-mini),axis=col)\n",
    "    return X"
   ]
  },
  {
   "cell_type": "markdown",
   "metadata": {},
   "source": [
    "---\n",
    "## Logistic Regression\n",
    "\n",
    "\n",
    "\n",
    "**option**\n",
    "\n",
    "* learning rate **alpha**\n",
    "* max iteration **max_iter**\n",
    "* regularization **regular**"
   ]
  },
  {
   "cell_type": "code",
   "execution_count": 179,
   "metadata": {
    "collapsed": false
   },
   "outputs": [],
   "source": [
    "def logistic(X,Y,alpha=0.1,conv=0.8,max_iter=10000,r=False):\n",
    "    if r:\n",
    "        X = regular(X)\n",
    "    m,n = X.shape\n",
    "    W = np.zeros(n)\n",
    "    grad=np.array([100])\n",
    "    n = 0\n",
    "    while True:\n",
    "        n+=1\n",
    "        cost, grad = costfunction(W, X, Y)\n",
    "        if sum(abs(grad)) < conv:\n",
    "            break\n",
    "        W -= grad*alpha\n",
    "        if n==max_iter:\n",
    "            break\n",
    "\n",
    "    return W"
   ]
  },
  {
   "cell_type": "code",
   "execution_count": 62,
   "metadata": {
    "collapsed": false
   },
   "outputs": [],
   "source": [
    "def predict(W,X,Y):\n",
    "    TP=0\n",
    "    TN=0\n",
    "    FP=0\n",
    "    FN=0\n",
    "    Y = Y.as_matrix(columns=Y.columns)[:,0]\n",
    "    m = Y.size\n",
    "\n",
    "    print \"Using\",W,\"as theta\"\n",
    "    for i,m in enumerate(X.T):\n",
    "        hx = sigmoid(np.dot(W, X.T[m]))\n",
    "        if hx>=0.5:\n",
    "            if Y[i]==1:\n",
    "                TP+=1\n",
    "            else:\n",
    "                FP+=1\n",
    "        else:\n",
    "            if Y[i]==1:\n",
    "                FN+=1\n",
    "            else:\n",
    "                TN+=1\n",
    "    return TP, TN, FP, FN"
   ]
  },
  {
   "cell_type": "code",
   "execution_count": 63,
   "metadata": {
    "collapsed": false
   },
   "outputs": [
    {
     "name": "stdout",
     "output_type": "stream",
     "text": [
      "Learning rate change\n",
      "Accuracy for alpha(0.01) : 77.9100529101\n",
      "Accuracy for alpha(0.05) : 79.1005291005\n",
      "Accuracy for alpha(0.1) : 76.5873015873\n",
      "Accuracy for alpha(0.2) : 76.1904761905\n",
      "Accuracy for alpha(0.5) : 76.0582010582\n"
     ]
    }
   ],
   "source": [
    "print \"Learning rate change\"\n",
    "alpha=[0.01,0.05,0.1,0.2,0.5]\n",
    "\n",
    "for i in alpha:\n",
    "    TP, TN, FP, FN = predict(logistic(X,Y,alpha=i),X,Y)\n",
    "    print \"Accuracy for alpha(%s) : %s\" %(i,(TP+TN)*100.0/(TP+TN+FP+FN))"
   ]
  },
  {
   "cell_type": "code",
   "execution_count": 149,
   "metadata": {
    "collapsed": false
   },
   "outputs": [
    {
     "name": "stdout",
     "output_type": "stream",
     "text": [
      "Convergence Change 0.1~0.9\n",
      "Accuracy for conv(0.1) : 66.4021164021\n",
      "Accuracy for conv(0.2) : 77.9100529101\n",
      "Accuracy for conv(0.3) : 77.9100529101\n",
      "Accuracy for conv(0.4) : 76.5873015873\n",
      "Accuracy for conv(0.5) : 76.5873015873\n",
      "Accuracy for conv(0.6) : 76.5873015873\n",
      "Accuracy for conv(0.7) : 76.5873015873\n",
      "Accuracy for conv(0.8) : 76.5873015873\n",
      "Accuracy for conv(0.9) : 76.5873015873\n",
      "Accuracy for conv(1.0) : 76.5873015873\n"
     ]
    }
   ],
   "source": [
    "print \"Convergence Change 0.1~0.9\"\n",
    "for c in pl.frange(0.1,1,0.1):\n",
    "    TP, TN, FP, FN = predict(logistic(X,Y,conv=c),X,Y)\n",
    "    print \"Accuracy for conv(%s) : %s\" %(c,(TP+TN)*100.0/(TP+TN+FP+FN))"
   ]
  },
  {
   "cell_type": "markdown",
   "metadata": {},
   "source": [
    "## 10-fold cross validation\n",
    "\n",
    "* shuffle and 10-split"
   ]
  },
  {
   "cell_type": "code",
   "execution_count": 69,
   "metadata": {
    "collapsed": true
   },
   "outputs": [],
   "source": [
    "from sklearn.utils import shuffle"
   ]
  },
  {
   "cell_type": "code",
   "execution_count": 73,
   "metadata": {
    "collapsed": false
   },
   "outputs": [
    {
     "data": {
      "text/html": [
       "<div>\n",
       "<table border=\"1\" class=\"dataframe\">\n",
       "  <thead>\n",
       "    <tr style=\"text-align: right;\">\n",
       "      <th></th>\n",
       "      <th>Age</th>\n",
       "      <th>SexCode</th>\n",
       "      <th>class</th>\n",
       "      <th>Survived</th>\n",
       "    </tr>\n",
       "  </thead>\n",
       "  <tbody>\n",
       "    <tr>\n",
       "      <th>386</th>\n",
       "      <td>18</td>\n",
       "      <td>0</td>\n",
       "      <td>2</td>\n",
       "      <td>0</td>\n",
       "    </tr>\n",
       "    <tr>\n",
       "      <th>174</th>\n",
       "      <td>46</td>\n",
       "      <td>0</td>\n",
       "      <td>1</td>\n",
       "      <td>0</td>\n",
       "    </tr>\n",
       "    <tr>\n",
       "      <th>546</th>\n",
       "      <td>3</td>\n",
       "      <td>0</td>\n",
       "      <td>2</td>\n",
       "      <td>1</td>\n",
       "    </tr>\n",
       "    <tr>\n",
       "      <th>727</th>\n",
       "      <td>31</td>\n",
       "      <td>0</td>\n",
       "      <td>3</td>\n",
       "      <td>0</td>\n",
       "    </tr>\n",
       "    <tr>\n",
       "      <th>1312</th>\n",
       "      <td>29</td>\n",
       "      <td>0</td>\n",
       "      <td>3</td>\n",
       "      <td>0</td>\n",
       "    </tr>\n",
       "  </tbody>\n",
       "</table>\n",
       "</div>"
      ],
      "text/plain": [
       "      Age  SexCode  class  Survived\n",
       "386    18        0      2         0\n",
       "174    46        0      1         0\n",
       "546     3        0      2         1\n",
       "727    31        0      3         0\n",
       "1312   29        0      3         0"
      ]
     },
     "execution_count": 73,
     "metadata": {},
     "output_type": "execute_result"
    }
   ],
   "source": [
    "data_shuffled = shuffle(data_main)\n",
    "data_shuffled.head()"
   ]
  },
  {
   "cell_type": "code",
   "execution_count": 139,
   "metadata": {
    "collapsed": false
   },
   "outputs": [],
   "source": [
    "n,m = data_shuffled.shape\n",
    "k = n/10\n",
    "F = []\n",
    "for i in range(0,n,k):\n",
    "    if i+2*k>n:\n",
    "        F.append(data_shuffled[i:])\n",
    "        break\n",
    "    else:\n",
    "        F.append(data_shuffled[i:i+k])"
   ]
  },
  {
   "cell_type": "code",
   "execution_count": 140,
   "metadata": {
    "collapsed": false
   },
   "outputs": [
    {
     "name": "stdout",
     "output_type": "stream",
     "text": [
      "0 75\n",
      "1 75\n",
      "2 75\n",
      "3 75\n",
      "4 75\n",
      "5 75\n",
      "6 75\n",
      "7 75\n",
      "8 75\n",
      "9 81\n"
     ]
    }
   ],
   "source": [
    "for idx,k in enumerate(F):\n",
    "    print idx,len(k)"
   ]
  },
  {
   "cell_type": "code",
   "execution_count": 180,
   "metadata": {
    "collapsed": false
   },
   "outputs": [
    {
     "name": "stdout",
     "output_type": "stream",
     "text": [
      "1 th Accuracy : 80.00 with Theta [ 0.03317962  6.33097138 -2.39946711]\n",
      "2 th Accuracy : 81.33 with Theta [ 0.02836065  6.53715071 -2.11707752]\n",
      "3 th Accuracy : 84.00 with Theta [ 0.02245455  5.25350235 -1.78503283]\n",
      "4 th Accuracy : 69.33 with Theta [ 0.05311724  7.07991025 -2.95778149]\n",
      "5 th Accuracy : 74.67 with Theta [ 0.05176889  5.91207021 -2.62446971]\n",
      "6 th Accuracy : 74.67 with Theta [ 0.03583064  6.01708823 -2.40378792]\n",
      "7 th Accuracy : 78.67 with Theta [ 0.04061077  6.03628244 -2.38212927]\n",
      "8 th Accuracy : 74.67 with Theta [ 0.03779016  6.54916477 -2.38521995]\n",
      "9 th Accuracy : 72.00 with Theta [ 0.04737454  5.64575542 -2.55734652]\n",
      "10 th Accuracy : 79.01 with Theta [ 0.03566674  6.17179659 -2.38038826]\n",
      "------------------------------------------\n",
      "Total Accuracy : 76.8518518519\n"
     ]
    }
   ],
   "source": [
    "right =0\n",
    "no =0\n",
    "for i in range(0,10):\n",
    "    n=0\n",
    "    Train=None\n",
    "    Test=None\n",
    "    \n",
    "    Test=F[i]\n",
    "    if i==0:\n",
    "        Train = F[1]\n",
    "        n=1\n",
    "    else:\n",
    "        n=0\n",
    "        Train = F[0]\n",
    "    for j in range(n,len(F)):\n",
    "        if j==i or j==n:\n",
    "            pass\n",
    "        else:\n",
    "            Train = Train.append(F[j])\n",
    "    # split\n",
    "    Test_X = Test[Test.columns[0:3]]\n",
    "    Test_Y = Test[['Survived']]\n",
    "    Train_X = Train[Train.columns[0:3]]\n",
    "    Train_Y = Train[['Survived']]\n",
    "    \n",
    "    W = logistic(Train_X,Train_Y)\n",
    "    TP, TN, FP, FN = predict(W,Test_X,Test_Y)\n",
    "\n",
    "    print i+1,\"th Accuracy : %.2f with Theta %s\"%(((TP+TN)*100.0/(TP+TN+FN+FP)),W)\n",
    "    right+=(TP+TN)\n",
    "    no+=(FP+FN)\n",
    "\n",
    "print \"------------------------------------------\\nTotal Accuracy : %s\"% (right*100.0/(right+no))    "
   ]
  },
  {
   "cell_type": "code",
   "execution_count": 166,
   "metadata": {
    "collapsed": false
   },
   "outputs": [
    {
     "data": {
      "text/html": [
       "<div>\n",
       "<table border=\"1\" class=\"dataframe\">\n",
       "  <thead>\n",
       "    <tr style=\"text-align: right;\">\n",
       "      <th></th>\n",
       "      <th>Age</th>\n",
       "      <th>SexCode</th>\n",
       "      <th>class</th>\n",
       "      <th>Survived</th>\n",
       "    </tr>\n",
       "  </thead>\n",
       "  <tbody>\n",
       "    <tr>\n",
       "      <th>0</th>\n",
       "      <td>29.00</td>\n",
       "      <td>1</td>\n",
       "      <td>1</td>\n",
       "      <td>1</td>\n",
       "    </tr>\n",
       "    <tr>\n",
       "      <th>1</th>\n",
       "      <td>2.00</td>\n",
       "      <td>1</td>\n",
       "      <td>1</td>\n",
       "      <td>0</td>\n",
       "    </tr>\n",
       "    <tr>\n",
       "      <th>2</th>\n",
       "      <td>30.00</td>\n",
       "      <td>0</td>\n",
       "      <td>1</td>\n",
       "      <td>0</td>\n",
       "    </tr>\n",
       "    <tr>\n",
       "      <th>3</th>\n",
       "      <td>25.00</td>\n",
       "      <td>1</td>\n",
       "      <td>1</td>\n",
       "      <td>0</td>\n",
       "    </tr>\n",
       "    <tr>\n",
       "      <th>4</th>\n",
       "      <td>0.92</td>\n",
       "      <td>0</td>\n",
       "      <td>1</td>\n",
       "      <td>1</td>\n",
       "    </tr>\n",
       "  </tbody>\n",
       "</table>\n",
       "</div>"
      ],
      "text/plain": [
       "     Age  SexCode  class  Survived\n",
       "0  29.00        1      1         1\n",
       "1   2.00        1      1         0\n",
       "2  30.00        0      1         0\n",
       "3  25.00        1      1         0\n",
       "4   0.92        0      1         1"
      ]
     },
     "execution_count": 166,
     "metadata": {},
     "output_type": "execute_result"
    }
   ],
   "source": [
    "data_main.head()"
   ]
  },
  {
   "cell_type": "markdown",
   "metadata": {},
   "source": [
    "---\n",
    "Based on Theta, We can guess\n",
    "\n",
    "**More** aged\n",
    "\n",
    "**Female**\n",
    "\n",
    "**Higher** class (1 is higher than 2)\n",
    "\n",
    "made people survived"
   ]
  }
 ],
 "metadata": {
  "kernelspec": {
   "display_name": "Python 2",
   "language": "python",
   "name": "python2"
  },
  "language_info": {
   "codemirror_mode": {
    "name": "ipython",
    "version": 2
   },
   "file_extension": ".py",
   "mimetype": "text/x-python",
   "name": "python",
   "nbconvert_exporter": "python",
   "pygments_lexer": "ipython2",
   "version": "2.7.11"
  }
 },
 "nbformat": 4,
 "nbformat_minor": 2
}
