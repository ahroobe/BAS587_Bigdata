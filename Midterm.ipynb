{
 "cells": [
  {
   "cell_type": "markdown",
   "metadata": {},
   "source": [
    "# 빅데이터 중간고사\n",
    "## 1번 문제"
   ]
  },
  {
   "cell_type": "code",
   "execution_count": 20,
   "metadata": {
    "collapsed": true
   },
   "outputs": [],
   "source": [
    "def quest1(a,k):\n",
    "    \"\"\"\n",
    "    k : index. should be bigger than 0\n",
    "    a : randomly chosen value\n",
    "    \"\"\"\n",
    "    if k<1:\n",
    "        return -1\n",
    "    if int(k)!=k:\n",
    "        return -1\n",
    "    k0 = 1\n",
    "    for i in range(0,k):\n",
    "        k0 = (k0+a*1.0/k0)/2\n",
    "    return k0"
   ]
  },
  {
   "cell_type": "code",
   "execution_count": 21,
   "metadata": {
    "collapsed": false
   },
   "outputs": [
    {
     "data": {
      "text/plain": [
       "2.0"
      ]
     },
     "execution_count": 21,
     "metadata": {},
     "output_type": "execute_result"
    }
   ],
   "source": [
    "quest1(3,1)"
   ]
  },
  {
   "cell_type": "markdown",
   "metadata": {},
   "source": [
    "## 2번 문제"
   ]
  },
  {
   "cell_type": "code",
   "execution_count": 27,
   "metadata": {
    "collapsed": true
   },
   "outputs": [],
   "source": [
    "import csv\n",
    "import pandas as pd"
   ]
  },
  {
   "cell_type": "code",
   "execution_count": 29,
   "metadata": {
    "collapsed": false
   },
   "outputs": [],
   "source": [
    "allli=[]\n",
    "with open('./data/dataSet.csv') as readfile:\n",
    "    reader = csv.reader(readfile)\n",
    "    for row in reader:\n",
    "        allli.append(row)\n"
   ]
  },
  {
   "cell_type": "code",
   "execution_count": 105,
   "metadata": {
    "collapsed": false
   },
   "outputs": [],
   "source": [
    "\"\"\"\n",
    "편하게 dataframe으로 하려고 처음 열에 index를 붙여줌\n",
    "\"\"\"\n",
    "with open('./data/dataSet1.csv','w') as writefile:\n",
    "    writer = csv.writer(writefile)\n",
    "    first=[]\n",
    "    for i in range(0,1000):\n",
    "        first.append(i)\n",
    "    writer.writerow(first)\n",
    "    for row in allli:\n",
    "        writer.writerow(row)\n"
   ]
  },
  {
   "cell_type": "code",
   "execution_count": 33,
   "metadata": {
    "collapsed": true
   },
   "outputs": [],
   "source": [
    "data=pd.read_csv('./data/dataSet1.csv')"
   ]
  },
  {
   "cell_type": "code",
   "execution_count": 39,
   "metadata": {
    "collapsed": false
   },
   "outputs": [
    {
     "data": {
      "text/html": [
       "<div>\n",
       "<table border=\"1\" class=\"dataframe\">\n",
       "  <thead>\n",
       "    <tr style=\"text-align: right;\">\n",
       "      <th></th>\n",
       "      <th>0</th>\n",
       "      <th>1</th>\n",
       "      <th>2</th>\n",
       "      <th>3</th>\n",
       "      <th>4</th>\n",
       "      <th>5</th>\n",
       "      <th>6</th>\n",
       "      <th>7</th>\n",
       "      <th>8</th>\n",
       "      <th>9</th>\n",
       "      <th>...</th>\n",
       "      <th>990</th>\n",
       "      <th>991</th>\n",
       "      <th>992</th>\n",
       "      <th>993</th>\n",
       "      <th>994</th>\n",
       "      <th>995</th>\n",
       "      <th>996</th>\n",
       "      <th>997</th>\n",
       "      <th>998</th>\n",
       "      <th>999</th>\n",
       "    </tr>\n",
       "  </thead>\n",
       "  <tbody>\n",
       "    <tr>\n",
       "      <th>0</th>\n",
       "      <td>3972</td>\n",
       "      <td>6726</td>\n",
       "      <td>5629</td>\n",
       "      <td>6890</td>\n",
       "      <td>730</td>\n",
       "      <td>6557</td>\n",
       "      <td>2022</td>\n",
       "      <td>76</td>\n",
       "      <td>8463</td>\n",
       "      <td>8647</td>\n",
       "      <td>...</td>\n",
       "      <td>1364</td>\n",
       "      <td>3966</td>\n",
       "      <td>3366</td>\n",
       "      <td>5042</td>\n",
       "      <td>5</td>\n",
       "      <td>732</td>\n",
       "      <td>8277</td>\n",
       "      <td>126</td>\n",
       "      <td>7747</td>\n",
       "      <td>5471</td>\n",
       "    </tr>\n",
       "    <tr>\n",
       "      <th>1</th>\n",
       "      <td>28</td>\n",
       "      <td>-29</td>\n",
       "      <td>95</td>\n",
       "      <td>-59</td>\n",
       "      <td>26</td>\n",
       "      <td>22</td>\n",
       "      <td>-26</td>\n",
       "      <td>-76</td>\n",
       "      <td>-95</td>\n",
       "      <td>-11</td>\n",
       "      <td>...</td>\n",
       "      <td>27</td>\n",
       "      <td>60</td>\n",
       "      <td>49</td>\n",
       "      <td>-80</td>\n",
       "      <td>60</td>\n",
       "      <td>-97</td>\n",
       "      <td>-19</td>\n",
       "      <td>52</td>\n",
       "      <td>60</td>\n",
       "      <td>-25</td>\n",
       "    </tr>\n",
       "    <tr>\n",
       "      <th>2</th>\n",
       "      <td>28</td>\n",
       "      <td>66</td>\n",
       "      <td>-131</td>\n",
       "      <td>-157</td>\n",
       "      <td>-140</td>\n",
       "      <td>-103</td>\n",
       "      <td>-114</td>\n",
       "      <td>73</td>\n",
       "      <td>-193</td>\n",
       "      <td>-28</td>\n",
       "      <td>...</td>\n",
       "      <td>98</td>\n",
       "      <td>-43</td>\n",
       "      <td>96</td>\n",
       "      <td>-138</td>\n",
       "      <td>-78</td>\n",
       "      <td>-1</td>\n",
       "      <td>-180</td>\n",
       "      <td>29</td>\n",
       "      <td>-77</td>\n",
       "      <td>41</td>\n",
       "    </tr>\n",
       "    <tr>\n",
       "      <th>3</th>\n",
       "      <td>-28</td>\n",
       "      <td>-31</td>\n",
       "      <td>102</td>\n",
       "      <td>44</td>\n",
       "      <td>-18</td>\n",
       "      <td>-85</td>\n",
       "      <td>52</td>\n",
       "      <td>23</td>\n",
       "      <td>-89</td>\n",
       "      <td>-78</td>\n",
       "      <td>...</td>\n",
       "      <td>92</td>\n",
       "      <td>93</td>\n",
       "      <td>-25</td>\n",
       "      <td>33</td>\n",
       "      <td>-88</td>\n",
       "      <td>-59</td>\n",
       "      <td>-91</td>\n",
       "      <td>-6</td>\n",
       "      <td>-73</td>\n",
       "      <td>96</td>\n",
       "    </tr>\n",
       "    <tr>\n",
       "      <th>4</th>\n",
       "      <td>101</td>\n",
       "      <td>464</td>\n",
       "      <td>315</td>\n",
       "      <td>203</td>\n",
       "      <td>180</td>\n",
       "      <td>298</td>\n",
       "      <td>-192</td>\n",
       "      <td>350</td>\n",
       "      <td>445</td>\n",
       "      <td>-195</td>\n",
       "      <td>...</td>\n",
       "      <td>337</td>\n",
       "      <td>336</td>\n",
       "      <td>-183</td>\n",
       "      <td>415</td>\n",
       "      <td>366</td>\n",
       "      <td>35</td>\n",
       "      <td>271</td>\n",
       "      <td>12</td>\n",
       "      <td>459</td>\n",
       "      <td>3</td>\n",
       "    </tr>\n",
       "  </tbody>\n",
       "</table>\n",
       "<p>5 rows × 1000 columns</p>\n",
       "</div>"
      ],
      "text/plain": [
       "      0     1     2     3    4     5     6    7     8     9  ...    990   991  \\\n",
       "0  3972  6726  5629  6890  730  6557  2022   76  8463  8647  ...   1364  3966   \n",
       "1    28   -29    95   -59   26    22   -26  -76   -95   -11  ...     27    60   \n",
       "2    28    66  -131  -157 -140  -103  -114   73  -193   -28  ...     98   -43   \n",
       "3   -28   -31   102    44  -18   -85    52   23   -89   -78  ...     92    93   \n",
       "4   101   464   315   203  180   298  -192  350   445  -195  ...    337   336   \n",
       "\n",
       "    992   993  994  995   996  997   998   999  \n",
       "0  3366  5042    5  732  8277  126  7747  5471  \n",
       "1    49   -80   60  -97   -19   52    60   -25  \n",
       "2    96  -138  -78   -1  -180   29   -77    41  \n",
       "3   -25    33  -88  -59   -91   -6   -73    96  \n",
       "4  -183   415  366   35   271   12   459     3  \n",
       "\n",
       "[5 rows x 1000 columns]"
      ]
     },
     "execution_count": 39,
     "metadata": {},
     "output_type": "execute_result"
    }
   ],
   "source": [
    "data.head()"
   ]
  },
  {
   "cell_type": "code",
   "execution_count": 37,
   "metadata": {
    "collapsed": true
   },
   "outputs": [],
   "source": [
    "data2 = data.transpose()"
   ]
  },
  {
   "cell_type": "code",
   "execution_count": 68,
   "metadata": {
    "collapsed": false
   },
   "outputs": [
    {
     "data": {
      "text/html": [
       "<div>\n",
       "<table border=\"1\" class=\"dataframe\">\n",
       "  <thead>\n",
       "    <tr style=\"text-align: right;\">\n",
       "      <th></th>\n",
       "      <th>0</th>\n",
       "      <th>1</th>\n",
       "      <th>2</th>\n",
       "      <th>3</th>\n",
       "      <th>4</th>\n",
       "      <th>5</th>\n",
       "      <th>6</th>\n",
       "      <th>7</th>\n",
       "    </tr>\n",
       "  </thead>\n",
       "  <tbody>\n",
       "    <tr>\n",
       "      <th>0</th>\n",
       "      <td>3972</td>\n",
       "      <td>28</td>\n",
       "      <td>28</td>\n",
       "      <td>-28</td>\n",
       "      <td>101</td>\n",
       "      <td>-66</td>\n",
       "      <td>-57</td>\n",
       "      <td>424.2</td>\n",
       "    </tr>\n",
       "    <tr>\n",
       "      <th>1</th>\n",
       "      <td>6726</td>\n",
       "      <td>-29</td>\n",
       "      <td>66</td>\n",
       "      <td>-31</td>\n",
       "      <td>464</td>\n",
       "      <td>44</td>\n",
       "      <td>53</td>\n",
       "      <td>888.6</td>\n",
       "    </tr>\n",
       "    <tr>\n",
       "      <th>2</th>\n",
       "      <td>5629</td>\n",
       "      <td>95</td>\n",
       "      <td>-131</td>\n",
       "      <td>102</td>\n",
       "      <td>315</td>\n",
       "      <td>-6</td>\n",
       "      <td>83</td>\n",
       "      <td>281.9</td>\n",
       "    </tr>\n",
       "    <tr>\n",
       "      <th>3</th>\n",
       "      <td>6890</td>\n",
       "      <td>-59</td>\n",
       "      <td>-157</td>\n",
       "      <td>44</td>\n",
       "      <td>203</td>\n",
       "      <td>26</td>\n",
       "      <td>77</td>\n",
       "      <td>408.0</td>\n",
       "    </tr>\n",
       "    <tr>\n",
       "      <th>4</th>\n",
       "      <td>730</td>\n",
       "      <td>26</td>\n",
       "      <td>-140</td>\n",
       "      <td>-18</td>\n",
       "      <td>180</td>\n",
       "      <td>93</td>\n",
       "      <td>15</td>\n",
       "      <td>-174.0</td>\n",
       "    </tr>\n",
       "  </tbody>\n",
       "</table>\n",
       "</div>"
      ],
      "text/plain": [
       "      0   1    2    3    4   5   6      7\n",
       "0  3972  28   28  -28  101 -66 -57  424.2\n",
       "1  6726 -29   66  -31  464  44  53  888.6\n",
       "2  5629  95 -131  102  315  -6  83  281.9\n",
       "3  6890 -59 -157   44  203  26  77  408.0\n",
       "4   730  26 -140  -18  180  93  15 -174.0"
      ]
     },
     "execution_count": 68,
     "metadata": {},
     "output_type": "execute_result"
    }
   ],
   "source": [
    "data2.head()"
   ]
  },
  {
   "cell_type": "code",
   "execution_count": 67,
   "metadata": {
    "collapsed": true
   },
   "outputs": [],
   "source": [
    "xlist = []\n",
    "for i in range(0,7):\n",
    "    xlist.append(i)"
   ]
  },
  {
   "cell_type": "code",
   "execution_count": 59,
   "metadata": {
    "collapsed": false
   },
   "outputs": [
    {
     "data": {
      "text/html": [
       "<div>\n",
       "<table border=\"1\" class=\"dataframe\">\n",
       "  <thead>\n",
       "    <tr style=\"text-align: right;\">\n",
       "      <th></th>\n",
       "      <th>0</th>\n",
       "      <th>1</th>\n",
       "      <th>2</th>\n",
       "      <th>3</th>\n",
       "      <th>4</th>\n",
       "      <th>5</th>\n",
       "      <th>6</th>\n",
       "    </tr>\n",
       "  </thead>\n",
       "  <tbody>\n",
       "    <tr>\n",
       "      <th>0</th>\n",
       "      <td>3972</td>\n",
       "      <td>28</td>\n",
       "      <td>28</td>\n",
       "      <td>-28</td>\n",
       "      <td>101</td>\n",
       "      <td>-66</td>\n",
       "      <td>-57</td>\n",
       "    </tr>\n",
       "    <tr>\n",
       "      <th>1</th>\n",
       "      <td>6726</td>\n",
       "      <td>-29</td>\n",
       "      <td>66</td>\n",
       "      <td>-31</td>\n",
       "      <td>464</td>\n",
       "      <td>44</td>\n",
       "      <td>53</td>\n",
       "    </tr>\n",
       "    <tr>\n",
       "      <th>2</th>\n",
       "      <td>5629</td>\n",
       "      <td>95</td>\n",
       "      <td>-131</td>\n",
       "      <td>102</td>\n",
       "      <td>315</td>\n",
       "      <td>-6</td>\n",
       "      <td>83</td>\n",
       "    </tr>\n",
       "    <tr>\n",
       "      <th>3</th>\n",
       "      <td>6890</td>\n",
       "      <td>-59</td>\n",
       "      <td>-157</td>\n",
       "      <td>44</td>\n",
       "      <td>203</td>\n",
       "      <td>26</td>\n",
       "      <td>77</td>\n",
       "    </tr>\n",
       "    <tr>\n",
       "      <th>4</th>\n",
       "      <td>730</td>\n",
       "      <td>26</td>\n",
       "      <td>-140</td>\n",
       "      <td>-18</td>\n",
       "      <td>180</td>\n",
       "      <td>93</td>\n",
       "      <td>15</td>\n",
       "    </tr>\n",
       "  </tbody>\n",
       "</table>\n",
       "</div>"
      ],
      "text/plain": [
       "      0   1    2    3    4   5   6\n",
       "0  3972  28   28  -28  101 -66 -57\n",
       "1  6726 -29   66  -31  464  44  53\n",
       "2  5629  95 -131  102  315  -6  83\n",
       "3  6890 -59 -157   44  203  26  77\n",
       "4   730  26 -140  -18  180  93  15"
      ]
     },
     "execution_count": 59,
     "metadata": {},
     "output_type": "execute_result"
    }
   ],
   "source": [
    "X = data2[xlist]\n",
    "X.head()"
   ]
  },
  {
   "cell_type": "code",
   "execution_count": 71,
   "metadata": {
    "collapsed": false
   },
   "outputs": [
    {
     "data": {
      "text/html": [
       "<div>\n",
       "<table border=\"1\" class=\"dataframe\">\n",
       "  <thead>\n",
       "    <tr style=\"text-align: right;\">\n",
       "      <th></th>\n",
       "      <th>6</th>\n",
       "    </tr>\n",
       "  </thead>\n",
       "  <tbody>\n",
       "    <tr>\n",
       "      <th>0</th>\n",
       "      <td>-57</td>\n",
       "    </tr>\n",
       "    <tr>\n",
       "      <th>1</th>\n",
       "      <td>53</td>\n",
       "    </tr>\n",
       "    <tr>\n",
       "      <th>2</th>\n",
       "      <td>83</td>\n",
       "    </tr>\n",
       "    <tr>\n",
       "      <th>3</th>\n",
       "      <td>77</td>\n",
       "    </tr>\n",
       "    <tr>\n",
       "      <th>4</th>\n",
       "      <td>15</td>\n",
       "    </tr>\n",
       "  </tbody>\n",
       "</table>\n",
       "</div>"
      ],
      "text/plain": [
       "    6\n",
       "0 -57\n",
       "1  53\n",
       "2  83\n",
       "3  77\n",
       "4  15"
      ]
     },
     "execution_count": 71,
     "metadata": {},
     "output_type": "execute_result"
    }
   ],
   "source": [
    "Y = data2[[6]]\n",
    "Y.head()"
   ]
  },
  {
   "cell_type": "code",
   "execution_count": 77,
   "metadata": {
    "collapsed": false
   },
   "outputs": [],
   "source": [
    "from sklearn import linear_model\n",
    "from sklearn.cross_validation import cross_val_score,cross_val_predict\n",
    "from sklearn.metrics import mean_squared_error"
   ]
  },
  {
   "cell_type": "code",
   "execution_count": 78,
   "metadata": {
    "collapsed": false
   },
   "outputs": [
    {
     "name": "stdout",
     "output_type": "stream",
     "text": [
      "MSE - test: 2.37175256241e-27\n"
     ]
    }
   ],
   "source": [
    "reg = linear_model.LinearRegression()\n",
    "predicted = cross_val_predict(reg, X,Y,cv=10)\n",
    "print 'MSE - test: %s' % mean_squared_error( predicted, Y)"
   ]
  },
  {
   "cell_type": "code",
   "execution_count": 103,
   "metadata": {
    "collapsed": false
   },
   "outputs": [],
   "source": [
    "all=0\n",
    "wrong=0\n",
    "for idx, data in enumerate(predicted):\n",
    "    all+=1\n",
    "    if round(float(Y.values[idx]),2)!=round(float(data),2):\n",
    "        wrong+=1"
   ]
  },
  {
   "cell_type": "code",
   "execution_count": 104,
   "metadata": {
    "collapsed": false
   },
   "outputs": [
    {
     "name": "stdout",
     "output_type": "stream",
     "text": [
      "1000 0\n"
     ]
    }
   ],
   "source": [
    "print all,wrong"
   ]
  },
  {
   "cell_type": "markdown",
   "metadata": {},
   "source": [
    "## 결론\n",
    "다 맞추는데 (실제 정확도 100%) python 내 float 수치 때문에 0으로 안나옴\n",
    "\n",
    "때문에 round 둘째자리로 했더니 다 맞다고 나옴"
   ]
  }
 ],
 "metadata": {
  "kernelspec": {
   "display_name": "Python 2",
   "language": "python",
   "name": "python2"
  },
  "language_info": {
   "codemirror_mode": {
    "name": "ipython",
    "version": 2
   },
   "file_extension": ".py",
   "mimetype": "text/x-python",
   "name": "python",
   "nbconvert_exporter": "python",
   "pygments_lexer": "ipython2",
   "version": "2.7.11"
  }
 },
 "nbformat": 4,
 "nbformat_minor": 2
}
