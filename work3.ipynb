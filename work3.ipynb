{
 "cells": [
  {
   "cell_type": "code",
   "execution_count": 94,
   "metadata": {
    "collapsed": true
   },
   "outputs": [],
   "source": [
    "import pandas as pd\n",
    "import math\n",
    "import csv\n",
    "import pylab as pl\n",
    "import time"
   ]
  },
  {
   "cell_type": "markdown",
   "metadata": {},
   "source": [
    "# 1. Small Decision Tree by maximizing information gain"
   ]
  },
  {
   "cell_type": "markdown",
   "metadata": {},
   "source": [
    "## 1.1 entropy function\n",
    "\n",
    "$$Entropy(S) = -\\Sigma{p\\log{p}}$$"
   ]
  },
  {
   "cell_type": "code",
   "execution_count": 43,
   "metadata": {
    "collapsed": true
   },
   "outputs": [],
   "source": [
    "def get_entropy(data):\n",
    "    total = sum(data)\n",
    "    entropy =0\n",
    "    for i,d in enumerate(data):\n",
    "        # data/sum -> p\n",
    "        try:\n",
    "            d/=total*1.0\n",
    "            entropy-=d*math.log(d,2)\n",
    "        except:\n",
    "            continue\n",
    "            \n",
    "    return entropy\n"
   ]
  },
  {
   "cell_type": "code",
   "execution_count": 37,
   "metadata": {
    "collapsed": false
   },
   "outputs": [
    {
     "data": {
      "text/plain": [
       "1.584962500721156"
      ]
     },
     "execution_count": 37,
     "metadata": {},
     "output_type": "execute_result"
    }
   ],
   "source": [
    "get_entropy([2,2,2])"
   ]
  },
  {
   "cell_type": "markdown",
   "metadata": {},
   "source": [
    "## 1.2 Load data"
   ]
  },
  {
   "cell_type": "code",
   "execution_count": 22,
   "metadata": {
    "collapsed": true
   },
   "outputs": [],
   "source": [
    "simpson = pd.read_csv('data/simpson.csv')"
   ]
  },
  {
   "cell_type": "code",
   "execution_count": 23,
   "metadata": {
    "collapsed": false
   },
   "outputs": [
    {
     "data": {
      "text/html": [
       "<div>\n",
       "<table border=\"1\" class=\"dataframe\">\n",
       "  <thead>\n",
       "    <tr style=\"text-align: right;\">\n",
       "      <th></th>\n",
       "      <th>Person</th>\n",
       "      <th>Hair_Length</th>\n",
       "      <th>Weight</th>\n",
       "      <th>Age</th>\n",
       "      <th>Class</th>\n",
       "    </tr>\n",
       "  </thead>\n",
       "  <tbody>\n",
       "    <tr>\n",
       "      <th>0</th>\n",
       "      <td>Homer</td>\n",
       "      <td>0</td>\n",
       "      <td>250</td>\n",
       "      <td>36</td>\n",
       "      <td>M</td>\n",
       "    </tr>\n",
       "    <tr>\n",
       "      <th>1</th>\n",
       "      <td>Marge</td>\n",
       "      <td>10</td>\n",
       "      <td>150</td>\n",
       "      <td>34</td>\n",
       "      <td>F</td>\n",
       "    </tr>\n",
       "    <tr>\n",
       "      <th>2</th>\n",
       "      <td>Bart</td>\n",
       "      <td>2</td>\n",
       "      <td>90</td>\n",
       "      <td>10</td>\n",
       "      <td>M</td>\n",
       "    </tr>\n",
       "    <tr>\n",
       "      <th>3</th>\n",
       "      <td>Lisa</td>\n",
       "      <td>6</td>\n",
       "      <td>78</td>\n",
       "      <td>8</td>\n",
       "      <td>F</td>\n",
       "    </tr>\n",
       "    <tr>\n",
       "      <th>4</th>\n",
       "      <td>Maggie</td>\n",
       "      <td>4</td>\n",
       "      <td>20</td>\n",
       "      <td>1</td>\n",
       "      <td>F</td>\n",
       "    </tr>\n",
       "    <tr>\n",
       "      <th>5</th>\n",
       "      <td>Abe</td>\n",
       "      <td>1</td>\n",
       "      <td>170</td>\n",
       "      <td>70</td>\n",
       "      <td>M</td>\n",
       "    </tr>\n",
       "    <tr>\n",
       "      <th>6</th>\n",
       "      <td>Selma</td>\n",
       "      <td>8</td>\n",
       "      <td>160</td>\n",
       "      <td>41</td>\n",
       "      <td>F</td>\n",
       "    </tr>\n",
       "    <tr>\n",
       "      <th>7</th>\n",
       "      <td>Otto</td>\n",
       "      <td>10</td>\n",
       "      <td>180</td>\n",
       "      <td>38</td>\n",
       "      <td>M</td>\n",
       "    </tr>\n",
       "    <tr>\n",
       "      <th>8</th>\n",
       "      <td>Krusty</td>\n",
       "      <td>6</td>\n",
       "      <td>200</td>\n",
       "      <td>45</td>\n",
       "      <td>M</td>\n",
       "    </tr>\n",
       "    <tr>\n",
       "      <th>9</th>\n",
       "      <td>Comic</td>\n",
       "      <td>8</td>\n",
       "      <td>290</td>\n",
       "      <td>38</td>\n",
       "      <td>M</td>\n",
       "    </tr>\n",
       "  </tbody>\n",
       "</table>\n",
       "</div>"
      ],
      "text/plain": [
       "   Person  Hair_Length  Weight  Age Class\n",
       "0   Homer            0     250   36     M\n",
       "1   Marge           10     150   34     F\n",
       "2    Bart            2      90   10     M\n",
       "3    Lisa            6      78    8     F\n",
       "4  Maggie            4      20    1     F\n",
       "5     Abe            1     170   70     M\n",
       "6   Selma            8     160   41     F\n",
       "7    Otto           10     180   38     M\n",
       "8  Krusty            6     200   45     M\n",
       "9   Comic            8     290   38     M"
      ]
     },
     "execution_count": 23,
     "metadata": {},
     "output_type": "execute_result"
    }
   ],
   "source": [
    "simpson"
   ]
  },
  {
   "cell_type": "code",
   "execution_count": 25,
   "metadata": {
    "collapsed": false
   },
   "outputs": [
    {
     "data": {
      "text/html": [
       "<div>\n",
       "<table border=\"1\" class=\"dataframe\">\n",
       "  <thead>\n",
       "    <tr style=\"text-align: right;\">\n",
       "      <th></th>\n",
       "      <th>Hair_Length</th>\n",
       "      <th>Weight</th>\n",
       "      <th>Age</th>\n",
       "    </tr>\n",
       "  </thead>\n",
       "  <tbody>\n",
       "    <tr>\n",
       "      <th>count</th>\n",
       "      <td>10.00000</td>\n",
       "      <td>10.00000</td>\n",
       "      <td>10.000000</td>\n",
       "    </tr>\n",
       "    <tr>\n",
       "      <th>mean</th>\n",
       "      <td>5.50000</td>\n",
       "      <td>158.80000</td>\n",
       "      <td>32.100000</td>\n",
       "    </tr>\n",
       "    <tr>\n",
       "      <th>std</th>\n",
       "      <td>3.62859</td>\n",
       "      <td>80.56026</td>\n",
       "      <td>20.566694</td>\n",
       "    </tr>\n",
       "    <tr>\n",
       "      <th>min</th>\n",
       "      <td>0.00000</td>\n",
       "      <td>20.00000</td>\n",
       "      <td>1.000000</td>\n",
       "    </tr>\n",
       "    <tr>\n",
       "      <th>25%</th>\n",
       "      <td>2.50000</td>\n",
       "      <td>105.00000</td>\n",
       "      <td>16.000000</td>\n",
       "    </tr>\n",
       "    <tr>\n",
       "      <th>50%</th>\n",
       "      <td>6.00000</td>\n",
       "      <td>165.00000</td>\n",
       "      <td>37.000000</td>\n",
       "    </tr>\n",
       "    <tr>\n",
       "      <th>75%</th>\n",
       "      <td>8.00000</td>\n",
       "      <td>195.00000</td>\n",
       "      <td>40.250000</td>\n",
       "    </tr>\n",
       "    <tr>\n",
       "      <th>max</th>\n",
       "      <td>10.00000</td>\n",
       "      <td>290.00000</td>\n",
       "      <td>70.000000</td>\n",
       "    </tr>\n",
       "  </tbody>\n",
       "</table>\n",
       "</div>"
      ],
      "text/plain": [
       "       Hair_Length     Weight        Age\n",
       "count     10.00000   10.00000  10.000000\n",
       "mean       5.50000  158.80000  32.100000\n",
       "std        3.62859   80.56026  20.566694\n",
       "min        0.00000   20.00000   1.000000\n",
       "25%        2.50000  105.00000  16.000000\n",
       "50%        6.00000  165.00000  37.000000\n",
       "75%        8.00000  195.00000  40.250000\n",
       "max       10.00000  290.00000  70.000000"
      ]
     },
     "execution_count": 25,
     "metadata": {},
     "output_type": "execute_result"
    }
   ],
   "source": [
    "simpson.describe()"
   ]
  },
  {
   "cell_type": "markdown",
   "metadata": {},
   "source": [
    "## 1.3 get maximum information gain"
   ]
  },
  {
   "cell_type": "code",
   "execution_count": 78,
   "metadata": {
    "collapsed": false
   },
   "outputs": [],
   "source": [
    "maxgain=-1\n",
    "maxk=0\n",
    "for k in pl.frange(0.0,10.0,0.1):\n",
    "    s = simpson[simpson['Hair_Length'] <= k]\n",
    "    b = simpson.drop(s.index)\n",
    "    \n",
    "    s_l = len(s)\n",
    "    b_l = len(b)\n",
    "    sum_l = s_l+b_l\n",
    "    s_M = len(s[s['Class']=='M'])\n",
    "    s_F = len(s[s['Class']=='F']) \n",
    "    b_M = len(b[b['Class']=='M']) \n",
    "    b_F = len(b[b['Class']=='F'])\n",
    "    \n",
    "    M = len(simpson[simpson['Class']=='M'])\n",
    "    F = len(simpson[simpson['Class']=='F'])\n",
    "    \n",
    "    current = get_entropy([M,F])\n",
    "#     print s_M,s_F,b_M,b_F\n",
    "#     print s_l,b_l,sum_l\n",
    "    child = get_entropy([s_M,s_F])*(s_l*1.0/sum_l) + get_entropy([b_M,b_F])*(b_l*1.0/sum_l)\n",
    "\n",
    "    gain = current-child\n",
    "\n",
    "    if gain>maxgain:\n",
    "\n",
    "        maxk=k\n",
    "        maxgain=gain"
   ]
  },
  {
   "cell_type": "code",
   "execution_count": 79,
   "metadata": {
    "collapsed": false
   },
   "outputs": [
    {
     "data": {
      "text/plain": [
       "(2.0, 0.2812908992306925)"
      ]
     },
     "execution_count": 79,
     "metadata": {},
     "output_type": "execute_result"
    }
   ],
   "source": [
    "maxk, maxgain"
   ]
  },
  {
   "cell_type": "markdown",
   "metadata": {},
   "source": [
    "# 2. Cross Validation"
   ]
  },
  {
   "cell_type": "code",
   "execution_count": 85,
   "metadata": {
    "collapsed": true
   },
   "outputs": [],
   "source": [
    "from sklearn import tree\n",
    "from sklearn import metrics\n",
    "from sklearn.cross_validation import cross_val_score"
   ]
  },
  {
   "cell_type": "code",
   "execution_count": 80,
   "metadata": {
    "collapsed": true
   },
   "outputs": [],
   "source": [
    "iris_data = pd.read_csv('data/iris.csv')"
   ]
  },
  {
   "cell_type": "code",
   "execution_count": 86,
   "metadata": {
    "collapsed": true
   },
   "outputs": [],
   "source": [
    "iris_X = iris_data[iris_data.columns[0:4]]\n",
    "iris_Y = iris_data['species']"
   ]
  },
  {
   "cell_type": "code",
   "execution_count": 97,
   "metadata": {
    "collapsed": false
   },
   "outputs": [
    {
     "name": "stdout",
     "output_type": "stream",
     "text": [
      "for 5th fold cross 0.96 and time spend 0.180916070938\n",
      "for 6th fold cross 0.959104938272 and time spend 0.163623094559\n",
      "for 7th fold cross 0.946428571429 and time spend 0.176446914673\n",
      "for 8th fold cross 0.96626984127 and time spend 0.162850856781\n",
      "for 9th fold cross 0.954320987654 and time spend 0.171447038651\n",
      "for 10th fold cross 0.953333333333 and time spend 0.167570114136\n",
      "for 11th fold cross 0.962121212121 and time spend 0.176992177963\n",
      "for 12th fold cross 0.952777777778 and time spend 0.176806926727\n",
      "for 13th fold cross 0.961538461538 and time spend 0.176886796951\n",
      "for 14th fold cross 0.954365079365 and time spend 0.306139945984\n"
     ]
    }
   ],
   "source": [
    "for i in range(5,15):\n",
    "    start = time.time()\n",
    "    clf = tree.DecisionTreeClassifier(max_depth=5)\n",
    "    # Perform n-fold cross validation \n",
    "    scores = cross_val_score(estimator=clf, X=iris_X, y=iris_Y, cv=i, n_jobs=4)\n",
    "    end = time.time()\n",
    "    \n",
    "    print (\"for \"+str(i)+\"th fold cross \"+str(scores.mean())+\" and time spend \"+str(end-start))\n",
    "    "
   ]
  },
  {
   "cell_type": "markdown",
   "metadata": {},
   "source": [
    "# 3. AdaBoost"
   ]
  },
  {
   "cell_type": "code",
   "execution_count": 92,
   "metadata": {
    "collapsed": true
   },
   "outputs": [],
   "source": [
    "from sklearn.ensemble import AdaBoostClassifier"
   ]
  },
  {
   "cell_type": "code",
   "execution_count": 99,
   "metadata": {
    "collapsed": false
   },
   "outputs": [
    {
     "name": "stdout",
     "output_type": "stream",
     "text": [
      "for 5th fold cross 0.946666666667 and time spend 0.566279888153\n",
      "for 6th fold cross 0.945216049383 and time spend 0.571048974991\n",
      "for 7th fold cross 0.953231292517 and time spend 0.67126083374\n",
      "for 8th fold cross 0.945436507937 and time spend 0.778046131134\n",
      "for 9th fold cross 0.948148148148 and time spend 0.880843877792\n",
      "for 10th fold cross 0.946666666667 and time spend 0.877290964127\n",
      "for 11th fold cross 0.948484848485 and time spend 0.988434076309\n",
      "for 12th fold cross 0.945833333333 and time spend 1.07829189301\n",
      "for 13th fold cross 0.948717948718 and time spend 1.28095078468\n",
      "for 14th fold cross 0.948412698413 and time spend 1.81405186653\n"
     ]
    }
   ],
   "source": [
    "clf = AdaBoostClassifier(n_estimators=100)\n",
    "scores = cross_val_score(estimator=clf, X=iris_X, y=iris_Y, cv=i, n_jobs=4)\n",
    "scores.mean()\n",
    "\n",
    "for i in range(5,15):\n",
    "    start = time.time()\n",
    "    clf = AdaBoostClassifier(n_estimators=100)\n",
    "    scores = cross_val_score(estimator=clf, X=iris_X, y=iris_Y, cv=i, n_jobs=4)\n",
    "    \n",
    "    end = time.time()\n",
    "    print (\"for \"+str(i)+\"th fold cross \"+str(scores.mean())+\" and time spend \"+str(end-start))\n",
    "    "
   ]
  }
 ],
 "metadata": {
  "kernelspec": {
   "display_name": "Python 2",
   "language": "python",
   "name": "python2"
  },
  "language_info": {
   "codemirror_mode": {
    "name": "ipython",
    "version": 2
   },
   "file_extension": ".py",
   "mimetype": "text/x-python",
   "name": "python",
   "nbconvert_exporter": "python",
   "pygments_lexer": "ipython2",
   "version": "2.7.11"
  }
 },
 "nbformat": 4,
 "nbformat_minor": 2
}
